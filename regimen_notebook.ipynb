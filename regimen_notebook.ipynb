{
 "cells": [
  {
   "cell_type": "markdown",
   "id": "a654a708",
   "metadata": {},
   "source": [
    "# Obervations and Thoughts"
   ]
  },
  {
   "cell_type": "markdown",
   "id": "6481a4b8",
   "metadata": {},
   "source": [
    "Ideally, when running drug trials, one wants to isolate what they are trialing for. For this study, the target area of interest is tumor volume. 10 drug regimens were tested for their efficacy in reducing tumor volumes found in mice across a given period of time in days, ranging from timepoint(day) 0 to timepoint(day) 45, allowing every drug to act within this time parameter.\n",
    " \n",
    " \n",
    "Unfortunately, not every drug regimen was able to provide equal specimen data, with the range being `{151,230}`, or `79` data points. An inference of cause could be subject survivability, where each regimen initially began with a set subject count. This can be confirmed by taking the count of subjects at timepoint 0 and at timepoint 45, and when doing so, we find that yes, all trials started with 25 mice, with the exception of 2 trials, Propriva and Stelasyn who start with 24. Looking at the timepoint counts at timepoint 45, these numbers have mostly dropped, giving confidence to the idea of subject survivability affect timepoint data.\n",
    " \n",
    "Those who show high survivability we would like to take further interest in. Capomulin and Ramicane both stand out as drugs that offer high subject survivability, and further exploration shows they also provide the smallest average tumor volume, the target of interest in this trial. With that idea in mind, we can follow this lead by observing the regimens which were found to have a SEM < 0.5 for Tumor Volume, which provides us with `Ramicane[.320]`, `Capomulin[.329]`, `Ceftamin[.469]` and `Infubinol[.492]`. All other regimens fail to give confidence.\n",
    " \n",
    "Going further, from these 4 regimens we can analyze the difference in tumor volumes. Looking at a boxplot, we can view the range of tumor volumes found for each treatment at the final timepoint to view their ultimate efficacy. The boxplot shows a notable distinction. Ramicane and Capomulin both provide far smaller tumor volumes, albeit with a larger max/min range (Though both well below Ceftamin and Infubinol). `Ramicane` shows a range of `{22,45}` or `total 23`, and `Capmulin` shows a range of `{23,47`} or `total 24`. `Ceftamin` shows a range of `{59,68}` or `total 9`, and `Infubinol` shows a range of `{60,72}` or a `total of 12`. Even with their smaller range of variance, and therefore potential consistency, the target of these trials is ultimately drug efficacy in tumor reduction, and therefore even with higher variance, Ramicane and Capomulin both outclass the seemingly consistent Ceftamin and Infubinol.\n",
    " \n",
    "Now that we have narrowed the results down to two potential candidate drugs, we can focus on Capomulin, as this is the drug of interest/ownership of the study providers. Fortunately, it seems to have performed well. Analysis of its correlation shows a strong positive direction of linearity, making the data a good candidate for testing regression, and the confident determination for Capomulin being an applicable tumor reduction therapy. Thus, we find the `correlation` to be `.950`, a strong linear relationship, and following, we find the `r2`value to be `.903`, a determinant result of a relationship.\n",
    " \n",
    "Finally, with that determination we can with confidence put energy into the continued lab testing and trials with this drug of interest Capomulin.  "
   ]
  },
  {
   "cell_type": "markdown",
   "id": "5c4c96c0",
   "metadata": {},
   "source": [
    "# Initial Setup & Dataset Creation"
   ]
  },
  {
   "cell_type": "code",
   "execution_count": 1,
   "id": "00456b7a",
   "metadata": {},
   "outputs": [],
   "source": [
    "## Import Dependencies\n",
    "import matplotlib.pyplot as plt\n",
    "import pandas as pd\n",
    "import scipy.stats as st\n",
    "import numpy as np"
   ]
  },
  {
   "cell_type": "code",
   "execution_count": 2,
   "id": "5c3f8971",
   "metadata": {},
   "outputs": [
    {
     "data": {
      "text/html": [
       "<div>\n",
       "<style scoped>\n",
       "    .dataframe tbody tr th:only-of-type {\n",
       "        vertical-align: middle;\n",
       "    }\n",
       "\n",
       "    .dataframe tbody tr th {\n",
       "        vertical-align: top;\n",
       "    }\n",
       "\n",
       "    .dataframe thead th {\n",
       "        text-align: right;\n",
       "    }\n",
       "</style>\n",
       "<table border=\"1\" class=\"dataframe\">\n",
       "  <thead>\n",
       "    <tr style=\"text-align: right;\">\n",
       "      <th></th>\n",
       "      <th>Mouse ID</th>\n",
       "      <th>Timepoint</th>\n",
       "      <th>Tumor Volume (mm3)</th>\n",
       "      <th>Metastatic Sites</th>\n",
       "      <th>Drug Regimen</th>\n",
       "      <th>Sex</th>\n",
       "      <th>Age_months</th>\n",
       "      <th>Weight (g)</th>\n",
       "    </tr>\n",
       "  </thead>\n",
       "  <tbody>\n",
       "    <tr>\n",
       "      <th>0</th>\n",
       "      <td>b128</td>\n",
       "      <td>0</td>\n",
       "      <td>45.000000</td>\n",
       "      <td>0</td>\n",
       "      <td>Capomulin</td>\n",
       "      <td>Female</td>\n",
       "      <td>9</td>\n",
       "      <td>22</td>\n",
       "    </tr>\n",
       "    <tr>\n",
       "      <th>1</th>\n",
       "      <td>b128</td>\n",
       "      <td>5</td>\n",
       "      <td>45.651331</td>\n",
       "      <td>0</td>\n",
       "      <td>Capomulin</td>\n",
       "      <td>Female</td>\n",
       "      <td>9</td>\n",
       "      <td>22</td>\n",
       "    </tr>\n",
       "    <tr>\n",
       "      <th>2</th>\n",
       "      <td>b128</td>\n",
       "      <td>10</td>\n",
       "      <td>43.270852</td>\n",
       "      <td>0</td>\n",
       "      <td>Capomulin</td>\n",
       "      <td>Female</td>\n",
       "      <td>9</td>\n",
       "      <td>22</td>\n",
       "    </tr>\n",
       "    <tr>\n",
       "      <th>3</th>\n",
       "      <td>b128</td>\n",
       "      <td>15</td>\n",
       "      <td>43.784893</td>\n",
       "      <td>0</td>\n",
       "      <td>Capomulin</td>\n",
       "      <td>Female</td>\n",
       "      <td>9</td>\n",
       "      <td>22</td>\n",
       "    </tr>\n",
       "    <tr>\n",
       "      <th>4</th>\n",
       "      <td>b128</td>\n",
       "      <td>20</td>\n",
       "      <td>42.731552</td>\n",
       "      <td>0</td>\n",
       "      <td>Capomulin</td>\n",
       "      <td>Female</td>\n",
       "      <td>9</td>\n",
       "      <td>22</td>\n",
       "    </tr>\n",
       "  </tbody>\n",
       "</table>\n",
       "</div>"
      ],
      "text/plain": [
       "  Mouse ID  Timepoint  Tumor Volume (mm3)  Metastatic Sites Drug Regimen  \\\n",
       "0     b128          0           45.000000                 0    Capomulin   \n",
       "1     b128          5           45.651331                 0    Capomulin   \n",
       "2     b128         10           43.270852                 0    Capomulin   \n",
       "3     b128         15           43.784893                 0    Capomulin   \n",
       "4     b128         20           42.731552                 0    Capomulin   \n",
       "\n",
       "      Sex  Age_months  Weight (g)  \n",
       "0  Female           9          22  \n",
       "1  Female           9          22  \n",
       "2  Female           9          22  \n",
       "3  Female           9          22  \n",
       "4  Female           9          22  "
      ]
     },
     "execution_count": 2,
     "metadata": {},
     "output_type": "execute_result"
    }
   ],
   "source": [
    "## Import mouse data csv files\n",
    "mouse_metadata = pd.read_csv(\"data/Mouse_metadata.csv\")\n",
    "\n",
    "study_results = pd.read_csv(\"data/Study_results.csv\")\n",
    "\n",
    "## Combine the data into a single dataset & display results\n",
    "mouse_study = pd.merge(study_results, mouse_metadata, how='outer' )\n",
    "\n",
    "mouse_study.head()"
   ]
  },
  {
   "cell_type": "code",
   "execution_count": 3,
   "id": "09f3ef22",
   "metadata": {},
   "outputs": [
    {
     "name": "stdout",
     "output_type": "stream",
     "text": [
      "Subject data in study: 1893\n"
     ]
    }
   ],
   "source": [
    "## Check the number of mouse subjects in dataset & remove duplicates\n",
    "print(f\"Subject data in study: {mouse_study['Mouse ID'].count()}\")"
   ]
  },
  {
   "cell_type": "code",
   "execution_count": 4,
   "id": "dcbb7377",
   "metadata": {},
   "outputs": [
    {
     "name": "stdout",
     "output_type": "stream",
     "text": [
      "Duplicates ID's found: 10\n"
     ]
    },
    {
     "data": {
      "text/html": [
       "<div>\n",
       "<style scoped>\n",
       "    .dataframe tbody tr th:only-of-type {\n",
       "        vertical-align: middle;\n",
       "    }\n",
       "\n",
       "    .dataframe tbody tr th {\n",
       "        vertical-align: top;\n",
       "    }\n",
       "\n",
       "    .dataframe thead th {\n",
       "        text-align: right;\n",
       "    }\n",
       "</style>\n",
       "<table border=\"1\" class=\"dataframe\">\n",
       "  <thead>\n",
       "    <tr style=\"text-align: right;\">\n",
       "      <th></th>\n",
       "      <th>Mouse ID</th>\n",
       "      <th>Timepoint</th>\n",
       "      <th>Tumor Volume (mm3)</th>\n",
       "      <th>Metastatic Sites</th>\n",
       "      <th>Drug Regimen</th>\n",
       "      <th>Sex</th>\n",
       "      <th>Age_months</th>\n",
       "      <th>Weight (g)</th>\n",
       "    </tr>\n",
       "  </thead>\n",
       "  <tbody>\n",
       "    <tr>\n",
       "      <th>860</th>\n",
       "      <td>g989</td>\n",
       "      <td>0</td>\n",
       "      <td>45.000000</td>\n",
       "      <td>0</td>\n",
       "      <td>Propriva</td>\n",
       "      <td>Female</td>\n",
       "      <td>21</td>\n",
       "      <td>26</td>\n",
       "    </tr>\n",
       "    <tr>\n",
       "      <th>861</th>\n",
       "      <td>g989</td>\n",
       "      <td>0</td>\n",
       "      <td>45.000000</td>\n",
       "      <td>0</td>\n",
       "      <td>Propriva</td>\n",
       "      <td>Female</td>\n",
       "      <td>21</td>\n",
       "      <td>26</td>\n",
       "    </tr>\n",
       "    <tr>\n",
       "      <th>862</th>\n",
       "      <td>g989</td>\n",
       "      <td>5</td>\n",
       "      <td>48.786801</td>\n",
       "      <td>0</td>\n",
       "      <td>Propriva</td>\n",
       "      <td>Female</td>\n",
       "      <td>21</td>\n",
       "      <td>26</td>\n",
       "    </tr>\n",
       "    <tr>\n",
       "      <th>863</th>\n",
       "      <td>g989</td>\n",
       "      <td>5</td>\n",
       "      <td>47.570392</td>\n",
       "      <td>0</td>\n",
       "      <td>Propriva</td>\n",
       "      <td>Female</td>\n",
       "      <td>21</td>\n",
       "      <td>26</td>\n",
       "    </tr>\n",
       "    <tr>\n",
       "      <th>864</th>\n",
       "      <td>g989</td>\n",
       "      <td>10</td>\n",
       "      <td>51.745156</td>\n",
       "      <td>0</td>\n",
       "      <td>Propriva</td>\n",
       "      <td>Female</td>\n",
       "      <td>21</td>\n",
       "      <td>26</td>\n",
       "    </tr>\n",
       "  </tbody>\n",
       "</table>\n",
       "</div>"
      ],
      "text/plain": [
       "    Mouse ID  Timepoint  Tumor Volume (mm3)  Metastatic Sites Drug Regimen  \\\n",
       "860     g989          0           45.000000                 0     Propriva   \n",
       "861     g989          0           45.000000                 0     Propriva   \n",
       "862     g989          5           48.786801                 0     Propriva   \n",
       "863     g989          5           47.570392                 0     Propriva   \n",
       "864     g989         10           51.745156                 0     Propriva   \n",
       "\n",
       "        Sex  Age_months  Weight (g)  \n",
       "860  Female          21          26  \n",
       "861  Female          21          26  \n",
       "862  Female          21          26  \n",
       "863  Female          21          26  \n",
       "864  Female          21          26  "
      ]
     },
     "execution_count": 4,
     "metadata": {},
     "output_type": "execute_result"
    }
   ],
   "source": [
    "# Getting the duplicate mice by ID number that shows up for Mouse ID and Timepoint. \n",
    "mouse_duplicates = mouse_study[mouse_study.duplicated( ['Mouse ID','Timepoint'] , keep=False)]\n",
    "\n",
    "print(f\"Duplicates ID's found: {mouse_duplicates['Mouse ID'].count()}\")\n",
    "\n",
    "mouse_duplicates.head()"
   ]
  },
  {
   "cell_type": "code",
   "execution_count": 5,
   "id": "acb1c0bf",
   "metadata": {},
   "outputs": [
    {
     "name": "stdout",
     "output_type": "stream",
     "text": [
      "Subject data left in study after duplicate removal: 1883\n"
     ]
    },
    {
     "data": {
      "text/html": [
       "<div>\n",
       "<style scoped>\n",
       "    .dataframe tbody tr th:only-of-type {\n",
       "        vertical-align: middle;\n",
       "    }\n",
       "\n",
       "    .dataframe tbody tr th {\n",
       "        vertical-align: top;\n",
       "    }\n",
       "\n",
       "    .dataframe thead th {\n",
       "        text-align: right;\n",
       "    }\n",
       "</style>\n",
       "<table border=\"1\" class=\"dataframe\">\n",
       "  <thead>\n",
       "    <tr style=\"text-align: right;\">\n",
       "      <th></th>\n",
       "      <th>Mouse ID</th>\n",
       "      <th>Timepoint</th>\n",
       "      <th>Tumor Volume (mm3)</th>\n",
       "      <th>Metastatic Sites</th>\n",
       "      <th>Drug Regimen</th>\n",
       "      <th>Sex</th>\n",
       "      <th>Age_months</th>\n",
       "      <th>Weight (g)</th>\n",
       "    </tr>\n",
       "  </thead>\n",
       "  <tbody>\n",
       "    <tr>\n",
       "      <th>0</th>\n",
       "      <td>b128</td>\n",
       "      <td>0</td>\n",
       "      <td>45.000000</td>\n",
       "      <td>0</td>\n",
       "      <td>Capomulin</td>\n",
       "      <td>Female</td>\n",
       "      <td>9</td>\n",
       "      <td>22</td>\n",
       "    </tr>\n",
       "    <tr>\n",
       "      <th>1</th>\n",
       "      <td>b128</td>\n",
       "      <td>5</td>\n",
       "      <td>45.651331</td>\n",
       "      <td>0</td>\n",
       "      <td>Capomulin</td>\n",
       "      <td>Female</td>\n",
       "      <td>9</td>\n",
       "      <td>22</td>\n",
       "    </tr>\n",
       "    <tr>\n",
       "      <th>2</th>\n",
       "      <td>b128</td>\n",
       "      <td>10</td>\n",
       "      <td>43.270852</td>\n",
       "      <td>0</td>\n",
       "      <td>Capomulin</td>\n",
       "      <td>Female</td>\n",
       "      <td>9</td>\n",
       "      <td>22</td>\n",
       "    </tr>\n",
       "    <tr>\n",
       "      <th>3</th>\n",
       "      <td>b128</td>\n",
       "      <td>15</td>\n",
       "      <td>43.784893</td>\n",
       "      <td>0</td>\n",
       "      <td>Capomulin</td>\n",
       "      <td>Female</td>\n",
       "      <td>9</td>\n",
       "      <td>22</td>\n",
       "    </tr>\n",
       "    <tr>\n",
       "      <th>4</th>\n",
       "      <td>b128</td>\n",
       "      <td>20</td>\n",
       "      <td>42.731552</td>\n",
       "      <td>0</td>\n",
       "      <td>Capomulin</td>\n",
       "      <td>Female</td>\n",
       "      <td>9</td>\n",
       "      <td>22</td>\n",
       "    </tr>\n",
       "  </tbody>\n",
       "</table>\n",
       "</div>"
      ],
      "text/plain": [
       "  Mouse ID  Timepoint  Tumor Volume (mm3)  Metastatic Sites Drug Regimen  \\\n",
       "0     b128          0           45.000000                 0    Capomulin   \n",
       "1     b128          5           45.651331                 0    Capomulin   \n",
       "2     b128         10           43.270852                 0    Capomulin   \n",
       "3     b128         15           43.784893                 0    Capomulin   \n",
       "4     b128         20           42.731552                 0    Capomulin   \n",
       "\n",
       "      Sex  Age_months  Weight (g)  \n",
       "0  Female           9          22  \n",
       "1  Female           9          22  \n",
       "2  Female           9          22  \n",
       "3  Female           9          22  \n",
       "4  Female           9          22  "
      ]
     },
     "execution_count": 5,
     "metadata": {},
     "output_type": "execute_result"
    }
   ],
   "source": [
    "# Create a clean DataFrame by dropping the duplicate mouse by its ID.\n",
    "mouse_study_clean =  mouse_study.drop_duplicates( ['Mouse ID','Timepoint'] , keep=False)\n",
    "\n",
    "print(f\"Subject data left in study after duplicate removal: {mouse_study_clean['Mouse ID'].count()}\")\n",
    "\n",
    "mouse_study_clean.head()"
   ]
  },
  {
   "cell_type": "markdown",
   "id": "8d51e036",
   "metadata": {},
   "source": [
    "# Dataset Summary Statistics"
   ]
  },
  {
   "cell_type": "code",
   "execution_count": 74,
   "id": "e969ad8a",
   "metadata": {},
   "outputs": [
    {
     "data": {
      "text/html": [
       "<div>\n",
       "<style scoped>\n",
       "    .dataframe tbody tr th:only-of-type {\n",
       "        vertical-align: middle;\n",
       "    }\n",
       "\n",
       "    .dataframe tbody tr th {\n",
       "        vertical-align: top;\n",
       "    }\n",
       "\n",
       "    .dataframe thead th {\n",
       "        text-align: right;\n",
       "    }\n",
       "</style>\n",
       "<table border=\"1\" class=\"dataframe\">\n",
       "  <thead>\n",
       "    <tr style=\"text-align: right;\">\n",
       "      <th></th>\n",
       "      <th>Mean</th>\n",
       "      <th>Median</th>\n",
       "      <th>Variance</th>\n",
       "      <th>Standard Deviation</th>\n",
       "      <th>Standard Error Of Mean</th>\n",
       "    </tr>\n",
       "    <tr>\n",
       "      <th>Tumor Volume / Drug Regimen</th>\n",
       "      <th></th>\n",
       "      <th></th>\n",
       "      <th></th>\n",
       "      <th></th>\n",
       "      <th></th>\n",
       "    </tr>\n",
       "  </thead>\n",
       "  <tbody>\n",
       "    <tr>\n",
       "      <th>Ramicane</th>\n",
       "      <td>40.216745</td>\n",
       "      <td>40.673236</td>\n",
       "      <td>23.486704</td>\n",
       "      <td>4.846308</td>\n",
       "      <td>0.320955</td>\n",
       "    </tr>\n",
       "    <tr>\n",
       "      <th>Capomulin</th>\n",
       "      <td>40.675741</td>\n",
       "      <td>41.557809</td>\n",
       "      <td>24.947764</td>\n",
       "      <td>4.994774</td>\n",
       "      <td>0.329346</td>\n",
       "    </tr>\n",
       "    <tr>\n",
       "      <th>Ceftamin</th>\n",
       "      <td>52.591172</td>\n",
       "      <td>51.776157</td>\n",
       "      <td>39.290177</td>\n",
       "      <td>6.268188</td>\n",
       "      <td>0.469821</td>\n",
       "    </tr>\n",
       "    <tr>\n",
       "      <th>Infubinol</th>\n",
       "      <td>52.884795</td>\n",
       "      <td>51.820584</td>\n",
       "      <td>43.128684</td>\n",
       "      <td>6.567243</td>\n",
       "      <td>0.492236</td>\n",
       "    </tr>\n",
       "    <tr>\n",
       "      <th>Zoniferol</th>\n",
       "      <td>53.236507</td>\n",
       "      <td>51.818479</td>\n",
       "      <td>48.533355</td>\n",
       "      <td>6.966589</td>\n",
       "      <td>0.516398</td>\n",
       "    </tr>\n",
       "    <tr>\n",
       "      <th>Propriva</th>\n",
       "      <td>52.458254</td>\n",
       "      <td>50.854632</td>\n",
       "      <td>44.053659</td>\n",
       "      <td>6.637293</td>\n",
       "      <td>0.540135</td>\n",
       "    </tr>\n",
       "    <tr>\n",
       "      <th>Stelasyn</th>\n",
       "      <td>54.233149</td>\n",
       "      <td>52.431737</td>\n",
       "      <td>59.450562</td>\n",
       "      <td>7.710419</td>\n",
       "      <td>0.573111</td>\n",
       "    </tr>\n",
       "    <tr>\n",
       "      <th>Placebo</th>\n",
       "      <td>54.033581</td>\n",
       "      <td>52.288934</td>\n",
       "      <td>61.168083</td>\n",
       "      <td>7.821003</td>\n",
       "      <td>0.581331</td>\n",
       "    </tr>\n",
       "    <tr>\n",
       "      <th>Naftisol</th>\n",
       "      <td>54.331565</td>\n",
       "      <td>52.509285</td>\n",
       "      <td>66.173479</td>\n",
       "      <td>8.134708</td>\n",
       "      <td>0.596466</td>\n",
       "    </tr>\n",
       "    <tr>\n",
       "      <th>Ketapril</th>\n",
       "      <td>55.235638</td>\n",
       "      <td>53.698743</td>\n",
       "      <td>68.553577</td>\n",
       "      <td>8.279709</td>\n",
       "      <td>0.603860</td>\n",
       "    </tr>\n",
       "  </tbody>\n",
       "</table>\n",
       "</div>"
      ],
      "text/plain": [
       "                                  Mean     Median   Variance  \\\n",
       "Tumor Volume / Drug Regimen                                    \n",
       "Ramicane                     40.216745  40.673236  23.486704   \n",
       "Capomulin                    40.675741  41.557809  24.947764   \n",
       "Ceftamin                     52.591172  51.776157  39.290177   \n",
       "Infubinol                    52.884795  51.820584  43.128684   \n",
       "Zoniferol                    53.236507  51.818479  48.533355   \n",
       "Propriva                     52.458254  50.854632  44.053659   \n",
       "Stelasyn                     54.233149  52.431737  59.450562   \n",
       "Placebo                      54.033581  52.288934  61.168083   \n",
       "Naftisol                     54.331565  52.509285  66.173479   \n",
       "Ketapril                     55.235638  53.698743  68.553577   \n",
       "\n",
       "                             Standard Deviation  Standard Error Of Mean  \n",
       "Tumor Volume / Drug Regimen                                              \n",
       "Ramicane                               4.846308                0.320955  \n",
       "Capomulin                              4.994774                0.329346  \n",
       "Ceftamin                               6.268188                0.469821  \n",
       "Infubinol                              6.567243                0.492236  \n",
       "Zoniferol                              6.966589                0.516398  \n",
       "Propriva                               6.637293                0.540135  \n",
       "Stelasyn                               7.710419                0.573111  \n",
       "Placebo                                7.821003                0.581331  \n",
       "Naftisol                               8.134708                0.596466  \n",
       "Ketapril                               8.279709                0.603860  "
      ]
     },
     "execution_count": 74,
     "metadata": {},
     "output_type": "execute_result"
    }
   ],
   "source": [
    "## Creation of summary statistics table; Begin by isolating desired values.  \n",
    "tumor_volume_df = mouse_study_clean[ [\"Tumor Volume (mm3)\",\"Drug Regimen\"] ]\n",
    "\n",
    "## Create groupby based off Regemin\n",
    "summary_stats_group = tumor_volume_df.groupby(tumor_volume_df['Drug Regimen'])\n",
    "\n",
    "## Start creating statistical data from the group, creating a dataframe from a statistical function.\n",
    "tumor_volume_table = summary_stats_group.mean()\n",
    "\n",
    "## Rename Axis for legibility\n",
    "tumor_volume_table.index.name = \"Tumor Volume / Drug Regimen\"\n",
    "\n",
    "## Rename the initially entered data column, apply the rest of the statisfical functions to the groupby object.\n",
    "tumor_volume_table = tumor_volume_table.rename(columns = {\"Tumor Volume (mm3)\":\"Mean\"})\n",
    "\n",
    "tumor_volume_table[\"Median\"] = summary_stats_group.median()\n",
    "\n",
    "tumor_volume_table[\"Variance\"] = summary_stats_group.var()\n",
    "\n",
    "tumor_volume_table[\"Standard Deviation\"] = summary_stats_group.std()\n",
    "\n",
    "tumor_volume_table[\"Standard Error Of Mean\"] = summary_stats_group.sem()\n",
    "\n",
    "tumor_volume_table.sort_values('Standard Error Of Mean')"
   ]
  },
  {
   "cell_type": "code",
   "execution_count": 73,
   "id": "985a9826",
   "metadata": {},
   "outputs": [
    {
     "data": {
      "text/html": [
       "<div>\n",
       "<style scoped>\n",
       "    .dataframe tbody tr th:only-of-type {\n",
       "        vertical-align: middle;\n",
       "    }\n",
       "\n",
       "    .dataframe tbody tr th {\n",
       "        vertical-align: top;\n",
       "    }\n",
       "\n",
       "    .dataframe thead tr th {\n",
       "        text-align: left;\n",
       "    }\n",
       "\n",
       "    .dataframe thead tr:last-of-type th {\n",
       "        text-align: right;\n",
       "    }\n",
       "</style>\n",
       "<table border=\"1\" class=\"dataframe\">\n",
       "  <thead>\n",
       "    <tr>\n",
       "      <th></th>\n",
       "      <th>Mean</th>\n",
       "      <th>Median</th>\n",
       "      <th>Variance</th>\n",
       "      <th>Standard Deviation</th>\n",
       "      <th>Standard Error of Mean</th>\n",
       "    </tr>\n",
       "    <tr>\n",
       "      <th>Drug Regimen</th>\n",
       "      <th></th>\n",
       "      <th></th>\n",
       "      <th></th>\n",
       "      <th></th>\n",
       "      <th></th>\n",
       "    </tr>\n",
       "  </thead>\n",
       "  <tbody>\n",
       "    <tr>\n",
       "      <th>Capomulin</th>\n",
       "      <td>40.675741</td>\n",
       "      <td>41.557809</td>\n",
       "      <td>24.947764</td>\n",
       "      <td>4.994774</td>\n",
       "      <td>0.329346</td>\n",
       "    </tr>\n",
       "    <tr>\n",
       "      <th>Ceftamin</th>\n",
       "      <td>52.591172</td>\n",
       "      <td>51.776157</td>\n",
       "      <td>39.290177</td>\n",
       "      <td>6.268188</td>\n",
       "      <td>0.469821</td>\n",
       "    </tr>\n",
       "    <tr>\n",
       "      <th>Infubinol</th>\n",
       "      <td>52.884795</td>\n",
       "      <td>51.820584</td>\n",
       "      <td>43.128684</td>\n",
       "      <td>6.567243</td>\n",
       "      <td>0.492236</td>\n",
       "    </tr>\n",
       "    <tr>\n",
       "      <th>Ketapril</th>\n",
       "      <td>55.235638</td>\n",
       "      <td>53.698743</td>\n",
       "      <td>68.553577</td>\n",
       "      <td>8.279709</td>\n",
       "      <td>0.603860</td>\n",
       "    </tr>\n",
       "    <tr>\n",
       "      <th>Naftisol</th>\n",
       "      <td>54.331565</td>\n",
       "      <td>52.509285</td>\n",
       "      <td>66.173479</td>\n",
       "      <td>8.134708</td>\n",
       "      <td>0.596466</td>\n",
       "    </tr>\n",
       "    <tr>\n",
       "      <th>Placebo</th>\n",
       "      <td>54.033581</td>\n",
       "      <td>52.288934</td>\n",
       "      <td>61.168083</td>\n",
       "      <td>7.821003</td>\n",
       "      <td>0.581331</td>\n",
       "    </tr>\n",
       "    <tr>\n",
       "      <th>Propriva</th>\n",
       "      <td>52.458254</td>\n",
       "      <td>50.854632</td>\n",
       "      <td>44.053659</td>\n",
       "      <td>6.637293</td>\n",
       "      <td>0.540135</td>\n",
       "    </tr>\n",
       "    <tr>\n",
       "      <th>Ramicane</th>\n",
       "      <td>40.216745</td>\n",
       "      <td>40.673236</td>\n",
       "      <td>23.486704</td>\n",
       "      <td>4.846308</td>\n",
       "      <td>0.320955</td>\n",
       "    </tr>\n",
       "    <tr>\n",
       "      <th>Stelasyn</th>\n",
       "      <td>54.233149</td>\n",
       "      <td>52.431737</td>\n",
       "      <td>59.450562</td>\n",
       "      <td>7.710419</td>\n",
       "      <td>0.573111</td>\n",
       "    </tr>\n",
       "    <tr>\n",
       "      <th>Zoniferol</th>\n",
       "      <td>53.236507</td>\n",
       "      <td>51.818479</td>\n",
       "      <td>48.533355</td>\n",
       "      <td>6.966589</td>\n",
       "      <td>0.516398</td>\n",
       "    </tr>\n",
       "  </tbody>\n",
       "</table>\n",
       "</div>"
      ],
      "text/plain": [
       "                   Mean     Median   Variance Standard Deviation  \\\n",
       "Drug Regimen                                                       \n",
       "Capomulin     40.675741  41.557809  24.947764           4.994774   \n",
       "Ceftamin      52.591172  51.776157  39.290177           6.268188   \n",
       "Infubinol     52.884795  51.820584  43.128684           6.567243   \n",
       "Ketapril      55.235638  53.698743  68.553577           8.279709   \n",
       "Naftisol      54.331565  52.509285  66.173479           8.134708   \n",
       "Placebo       54.033581  52.288934  61.168083           7.821003   \n",
       "Propriva      52.458254  50.854632  44.053659           6.637293   \n",
       "Ramicane      40.216745  40.673236  23.486704           4.846308   \n",
       "Stelasyn      54.233149  52.431737  59.450562           7.710419   \n",
       "Zoniferol     53.236507  51.818479  48.533355           6.966589   \n",
       "\n",
       "             Standard Error of Mean  \n",
       "Drug Regimen                         \n",
       "Capomulin                  0.329346  \n",
       "Ceftamin                   0.469821  \n",
       "Infubinol                  0.492236  \n",
       "Ketapril                   0.603860  \n",
       "Naftisol                   0.596466  \n",
       "Placebo                    0.581331  \n",
       "Propriva                   0.540135  \n",
       "Ramicane                   0.320955  \n",
       "Stelasyn                   0.573111  \n",
       "Zoniferol                  0.516398  "
      ]
     },
     "execution_count": 73,
     "metadata": {},
     "output_type": "execute_result"
    }
   ],
   "source": [
    "##Create table using groupby aggregated functions\n",
    "## Rename column titles to be legible for visual understanding. \n",
    "rename_list = ['Mean','Median','Variance','Standard Deviation','Standard Error of Mean']\n",
    "\n",
    "tumor_volume_df = mouse_study_clean[ [\"Tumor Volume (mm3)\",\"Drug Regimen\"] ]\n",
    "\n",
    "tumor_volume_table = tumor_volume_df.groupby(tumor_volume_df['Drug Regimen']).agg(['mean','median','var','std','sem'])\n",
    "\n",
    "tumor_volume_table.set_axis([rename_list],axis='columns')"
   ]
  },
  {
   "cell_type": "markdown",
   "id": "3ec57720",
   "metadata": {},
   "source": [
    "## Timepoint Observations"
   ]
  },
  {
   "cell_type": "code",
   "execution_count": 41,
   "id": "97cacebc",
   "metadata": {},
   "outputs": [],
   "source": [
    "## Start by isolating desired data\n",
    "timepoint_regimen = mouse_study_clean[ [\"Timepoint\", \"Drug Regimen\"] ]\n",
    "\n",
    "## Create groupby from the regimens\n",
    "timepoint_regimen_group = timepoint_regimen.groupby(timepoint_regimen[\"Drug Regimen\"])\n",
    "\n",
    "## Find the count of the timepoint data\n",
    "timepoint_regimen_count = (timepoint_regimen_group[\"Timepoint\"].count())\n",
    "\n",
    "## Create ready to plot dataframe for finalized data\n",
    "timepoint_regimen_df = pd.DataFrame({'Drug Regimen':timepoint_regimen_count.index, \n",
    "                                     'Timepoint Counts':timepoint_regimen_count.values})"
   ]
  },
  {
   "cell_type": "code",
   "execution_count": 42,
   "id": "684ee905",
   "metadata": {},
   "outputs": [
    {
     "data": {
      "text/html": [
       "<div>\n",
       "<style scoped>\n",
       "    .dataframe tbody tr th:only-of-type {\n",
       "        vertical-align: middle;\n",
       "    }\n",
       "\n",
       "    .dataframe tbody tr th {\n",
       "        vertical-align: top;\n",
       "    }\n",
       "\n",
       "    .dataframe thead th {\n",
       "        text-align: right;\n",
       "    }\n",
       "</style>\n",
       "<table border=\"1\" class=\"dataframe\">\n",
       "  <thead>\n",
       "    <tr style=\"text-align: right;\">\n",
       "      <th></th>\n",
       "      <th>Drug Regimen</th>\n",
       "      <th>Timepoint Counts</th>\n",
       "    </tr>\n",
       "  </thead>\n",
       "  <tbody>\n",
       "    <tr>\n",
       "      <th>6</th>\n",
       "      <td>Propriva</td>\n",
       "      <td>151</td>\n",
       "    </tr>\n",
       "    <tr>\n",
       "      <th>1</th>\n",
       "      <td>Ceftamin</td>\n",
       "      <td>178</td>\n",
       "    </tr>\n",
       "    <tr>\n",
       "      <th>2</th>\n",
       "      <td>Infubinol</td>\n",
       "      <td>178</td>\n",
       "    </tr>\n",
       "    <tr>\n",
       "      <th>5</th>\n",
       "      <td>Placebo</td>\n",
       "      <td>181</td>\n",
       "    </tr>\n",
       "    <tr>\n",
       "      <th>8</th>\n",
       "      <td>Stelasyn</td>\n",
       "      <td>181</td>\n",
       "    </tr>\n",
       "    <tr>\n",
       "      <th>9</th>\n",
       "      <td>Zoniferol</td>\n",
       "      <td>182</td>\n",
       "    </tr>\n",
       "    <tr>\n",
       "      <th>4</th>\n",
       "      <td>Naftisol</td>\n",
       "      <td>186</td>\n",
       "    </tr>\n",
       "    <tr>\n",
       "      <th>3</th>\n",
       "      <td>Ketapril</td>\n",
       "      <td>188</td>\n",
       "    </tr>\n",
       "    <tr>\n",
       "      <th>7</th>\n",
       "      <td>Ramicane</td>\n",
       "      <td>228</td>\n",
       "    </tr>\n",
       "    <tr>\n",
       "      <th>0</th>\n",
       "      <td>Capomulin</td>\n",
       "      <td>230</td>\n",
       "    </tr>\n",
       "  </tbody>\n",
       "</table>\n",
       "</div>"
      ],
      "text/plain": [
       "  Drug Regimen  Timepoint Counts\n",
       "6     Propriva               151\n",
       "1     Ceftamin               178\n",
       "2    Infubinol               178\n",
       "5      Placebo               181\n",
       "8     Stelasyn               181\n",
       "9    Zoniferol               182\n",
       "4     Naftisol               186\n",
       "3     Ketapril               188\n",
       "7     Ramicane               228\n",
       "0    Capomulin               230"
      ]
     },
     "execution_count": 42,
     "metadata": {},
     "output_type": "execute_result"
    }
   ],
   "source": [
    "timepoint_regimen_df.sort_values(by=['Timepoint Counts'])"
   ]
  },
  {
   "cell_type": "code",
   "execution_count": 45,
   "id": "79dd80de",
   "metadata": {},
   "outputs": [
    {
     "data": {
      "text/html": [
       "<div>\n",
       "<style scoped>\n",
       "    .dataframe tbody tr th:only-of-type {\n",
       "        vertical-align: middle;\n",
       "    }\n",
       "\n",
       "    .dataframe tbody tr th {\n",
       "        vertical-align: top;\n",
       "    }\n",
       "\n",
       "    .dataframe thead th {\n",
       "        text-align: right;\n",
       "    }\n",
       "</style>\n",
       "<table border=\"1\" class=\"dataframe\">\n",
       "  <thead>\n",
       "    <tr style=\"text-align: right;\">\n",
       "      <th></th>\n",
       "      <th>Drug Regimen</th>\n",
       "      <th>Timepoint Counts</th>\n",
       "    </tr>\n",
       "  </thead>\n",
       "  <tbody>\n",
       "    <tr>\n",
       "      <th>6</th>\n",
       "      <td>Propriva</td>\n",
       "      <td>24</td>\n",
       "    </tr>\n",
       "    <tr>\n",
       "      <th>8</th>\n",
       "      <td>Stelasyn</td>\n",
       "      <td>24</td>\n",
       "    </tr>\n",
       "    <tr>\n",
       "      <th>0</th>\n",
       "      <td>Capomulin</td>\n",
       "      <td>25</td>\n",
       "    </tr>\n",
       "    <tr>\n",
       "      <th>1</th>\n",
       "      <td>Ceftamin</td>\n",
       "      <td>25</td>\n",
       "    </tr>\n",
       "    <tr>\n",
       "      <th>2</th>\n",
       "      <td>Infubinol</td>\n",
       "      <td>25</td>\n",
       "    </tr>\n",
       "    <tr>\n",
       "      <th>3</th>\n",
       "      <td>Ketapril</td>\n",
       "      <td>25</td>\n",
       "    </tr>\n",
       "    <tr>\n",
       "      <th>4</th>\n",
       "      <td>Naftisol</td>\n",
       "      <td>25</td>\n",
       "    </tr>\n",
       "    <tr>\n",
       "      <th>5</th>\n",
       "      <td>Placebo</td>\n",
       "      <td>25</td>\n",
       "    </tr>\n",
       "    <tr>\n",
       "      <th>7</th>\n",
       "      <td>Ramicane</td>\n",
       "      <td>25</td>\n",
       "    </tr>\n",
       "    <tr>\n",
       "      <th>9</th>\n",
       "      <td>Zoniferol</td>\n",
       "      <td>25</td>\n",
       "    </tr>\n",
       "  </tbody>\n",
       "</table>\n",
       "</div>"
      ],
      "text/plain": [
       "  Drug Regimen  Timepoint Counts\n",
       "6     Propriva                24\n",
       "8     Stelasyn                24\n",
       "0    Capomulin                25\n",
       "1     Ceftamin                25\n",
       "2    Infubinol                25\n",
       "3     Ketapril                25\n",
       "4     Naftisol                25\n",
       "5      Placebo                25\n",
       "7     Ramicane                25\n",
       "9    Zoniferol                25"
      ]
     },
     "execution_count": 45,
     "metadata": {},
     "output_type": "execute_result"
    }
   ],
   "source": [
    "timepoint_regimen_zero = timepoint_regimen.loc[timepoint_regimen['Timepoint'] == 0]\n",
    "timepoint_regimen_zero_group = timepoint_regimen_zero.groupby(timepoint_regimen[\"Drug Regimen\"])\n",
    "timepoint_regimen_zero_count = (timepoint_regimen_zero_group[\"Timepoint\"].count())\n",
    "timepoint_zero_df = pd.DataFrame({'Drug Regimen':timepoint_regimen_zero_count.index, \n",
    "                                     'Timepoint Counts':timepoint_regimen_zero_count.values})\n",
    "timepoint_zero_df.sort_values(['Timepoint Counts'])"
   ]
  },
  {
   "cell_type": "code",
   "execution_count": 46,
   "id": "9362d78e",
   "metadata": {},
   "outputs": [
    {
     "data": {
      "text/html": [
       "<div>\n",
       "<style scoped>\n",
       "    .dataframe tbody tr th:only-of-type {\n",
       "        vertical-align: middle;\n",
       "    }\n",
       "\n",
       "    .dataframe tbody tr th {\n",
       "        vertical-align: top;\n",
       "    }\n",
       "\n",
       "    .dataframe thead th {\n",
       "        text-align: right;\n",
       "    }\n",
       "</style>\n",
       "<table border=\"1\" class=\"dataframe\">\n",
       "  <thead>\n",
       "    <tr style=\"text-align: right;\">\n",
       "      <th></th>\n",
       "      <th>Drug Regimen</th>\n",
       "      <th>Timepoint Counts</th>\n",
       "    </tr>\n",
       "  </thead>\n",
       "  <tbody>\n",
       "    <tr>\n",
       "      <th>6</th>\n",
       "      <td>Propriva</td>\n",
       "      <td>7</td>\n",
       "    </tr>\n",
       "    <tr>\n",
       "      <th>2</th>\n",
       "      <td>Infubinol</td>\n",
       "      <td>9</td>\n",
       "    </tr>\n",
       "    <tr>\n",
       "      <th>3</th>\n",
       "      <td>Ketapril</td>\n",
       "      <td>11</td>\n",
       "    </tr>\n",
       "    <tr>\n",
       "      <th>5</th>\n",
       "      <td>Placebo</td>\n",
       "      <td>11</td>\n",
       "    </tr>\n",
       "    <tr>\n",
       "      <th>8</th>\n",
       "      <td>Stelasyn</td>\n",
       "      <td>11</td>\n",
       "    </tr>\n",
       "    <tr>\n",
       "      <th>1</th>\n",
       "      <td>Ceftamin</td>\n",
       "      <td>13</td>\n",
       "    </tr>\n",
       "    <tr>\n",
       "      <th>4</th>\n",
       "      <td>Naftisol</td>\n",
       "      <td>13</td>\n",
       "    </tr>\n",
       "    <tr>\n",
       "      <th>9</th>\n",
       "      <td>Zoniferol</td>\n",
       "      <td>14</td>\n",
       "    </tr>\n",
       "    <tr>\n",
       "      <th>7</th>\n",
       "      <td>Ramicane</td>\n",
       "      <td>20</td>\n",
       "    </tr>\n",
       "    <tr>\n",
       "      <th>0</th>\n",
       "      <td>Capomulin</td>\n",
       "      <td>21</td>\n",
       "    </tr>\n",
       "  </tbody>\n",
       "</table>\n",
       "</div>"
      ],
      "text/plain": [
       "  Drug Regimen  Timepoint Counts\n",
       "6     Propriva                 7\n",
       "2    Infubinol                 9\n",
       "3     Ketapril                11\n",
       "5      Placebo                11\n",
       "8     Stelasyn                11\n",
       "1     Ceftamin                13\n",
       "4     Naftisol                13\n",
       "9    Zoniferol                14\n",
       "7     Ramicane                20\n",
       "0    Capomulin                21"
      ]
     },
     "execution_count": 46,
     "metadata": {},
     "output_type": "execute_result"
    }
   ],
   "source": [
    "timepoint_regimen_max = timepoint_regimen.loc[timepoint_regimen['Timepoint'] == 45]\n",
    "timepoint_regimen_max_group = timepoint_regimen_max.groupby(timepoint_regimen[\"Drug Regimen\"])\n",
    "timepoint_regimen_max_count = (timepoint_regimen_max_group[\"Timepoint\"].count())\n",
    "timepoint_max_df = pd.DataFrame({'Drug Regimen':timepoint_regimen_max_count.index, \n",
    "                                     'Timepoint Counts':timepoint_regimen_max_count.values})\n",
    "timepoint_max_df.sort_values(['Timepoint Counts'])"
   ]
  },
  {
   "cell_type": "markdown",
   "id": "1cfd26e9",
   "metadata": {},
   "source": [
    "# Bar Charts\n",
    "Two horizontal bar charts showing total amount of timepoint data across each drug regimen."
   ]
  },
  {
   "cell_type": "markdown",
   "id": "da1dd69e",
   "metadata": {},
   "source": [
    "### Pandas\n",
    "Pandas based horizontal bar chart showing the total number of timepoint data that exists for each subject across each drug regimen "
   ]
  },
  {
   "cell_type": "code",
   "execution_count": 9,
   "id": "6a8ad005",
   "metadata": {},
   "outputs": [
    {
     "data": {
      "text/plain": [
       "<AxesSubplot:ylabel='Drug Regimen'>"
      ]
     },
     "execution_count": 9,
     "metadata": {},
     "output_type": "execute_result"
    },
    {
     "data": {
      "image/png": "[encoded data removed]",
      "text/plain": [
       "<Figure size 864x432 with 1 Axes>"
      ]
     },
     "metadata": {
      "needs_background": "light"
     },
     "output_type": "display_data"
    }
   ],
   "source": [
    "timepoint_regimen_df.plot.barh(x=\"Drug Regimen\",y=\"Timepoint Counts\", color=\"#708090\",figsize=(12,6),\n",
    "                               xticks=(0,25,50,75,100,125,150,175,200,225,250))"
   ]
  },
  {
   "cell_type": "markdown",
   "id": "490d9b07",
   "metadata": {},
   "source": [
    "### Matplotlib\n",
    "Matplotlib pyplot horizontal bar graph utilizing the finalized df created above, showing the total amount of timepoint data for the subjects across each drug regimen."
   ]
  },
  {
   "cell_type": "code",
   "execution_count": 10,
   "id": "3b1561a9",
   "metadata": {},
   "outputs": [
    {
     "data": {
      "image/png": "[encoded data removed]",
      "text/plain": [
       "<Figure size 432x288 with 1 Axes>"
      ]
     },
     "metadata": {
      "needs_background": "light"
     },
     "output_type": "display_data"
    }
   ],
   "source": [
    "timepoint_x =(timepoint_regimen_df[\"Timepoint Counts\"])\n",
    "plt.barh(timepoint_regimen_df[\"Drug Regimen\"],timepoint_x, color='slategrey', align=\"center\")\n",
    "plt.title('Drug Regimens per total Timepoints')\n",
    "plt.ylabel('Drug Regimens')\n",
    "plt.xlabel('Timepoints')\n",
    "plt.xlim(0, max(timepoint_x)+25)\n",
    "plt.show()"
   ]
  },
  {
   "cell_type": "markdown",
   "id": "aa23b357",
   "metadata": {},
   "source": [
    "# Pie Charts\n",
    "Two pie charts showing gender distibution among the subjects."
   ]
  },
  {
   "cell_type": "code",
   "execution_count": 11,
   "id": "78b9eeee",
   "metadata": {},
   "outputs": [],
   "source": [
    "## Create a count of the genders.\n",
    "gender_counts = pd.DataFrame({\n",
    "    \"Gender Count\": mouse_study_clean[\"Sex\"].value_counts()                          \n",
    "                             })"
   ]
  },
  {
   "cell_type": "markdown",
   "id": "92c1dea8",
   "metadata": {},
   "source": [
    "### Pandas\n",
    "Pandas pie chart showing the gender distribution of the mice in the study"
   ]
  },
  {
   "cell_type": "code",
   "execution_count": 12,
   "id": "0a9889ea",
   "metadata": {},
   "outputs": [
    {
     "data": {
      "text/plain": [
       "<AxesSubplot:ylabel='Gender Count'>"
      ]
     },
     "execution_count": 12,
     "metadata": {},
     "output_type": "execute_result"
    },
    {
     "data": {
      "image/png": "[encoded data removed]",
      "text/plain": [
       "<Figure size 432x432 with 1 Axes>"
      ]
     },
     "metadata": {},
     "output_type": "display_data"
    }
   ],
   "source": [
    "\n",
    "gender_counts.plot.pie(y=\"Gender Count\", figsize=(6,6))"
   ]
  },
  {
   "cell_type": "markdown",
   "id": "af3c491c",
   "metadata": {},
   "source": [
    "### Matplotlib\n",
    "Matplotlib pyplot pie chart showing the gender distribution of mice in the study"
   ]
  },
  {
   "cell_type": "code",
   "execution_count": 13,
   "id": "3ccf77d0",
   "metadata": {},
   "outputs": [
    {
     "data": {
      "image/png": "[encoded data removed]",
      "text/plain": [
       "<Figure size 432x288 with 1 Axes>"
      ]
     },
     "metadata": {},
     "output_type": "display_data"
    }
   ],
   "source": [
    "gender_colors = [\"lavender\",\"mistyrose\"]\n",
    "\n",
    "labels = [\"Female\",\"Male\"]\n",
    "\n",
    "explode = (0.07, 0)\n",
    "\n",
    "plt.pie(gender_counts[\"Gender Count\"], explode=explode, labels=labels, colors=gender_colors,\n",
    "        autopct=\"%1.1f%%\", shadow=True, radius = 2)\n",
    "plt.show()"
   ]
  },
  {
   "cell_type": "markdown",
   "id": "0a3afc47",
   "metadata": {},
   "source": [
    "# Quartiles, Outliers and Boxplots\n",
    "The calculation of final tumor volumes for each subject across four treatment regimens of interest. Those treatments are:\n",
    "\n",
    "|Capomulin|Ramicane|Infubinol|Ceftamin|\n",
    "| ----------- | ----------- | ----------- | ----------- |\n",
    "| Drug One   |Drug Two  | Drug Three|Drug Four|\n"
   ]
  },
  {
   "cell_type": "code",
   "execution_count": 14,
   "id": "d8d321b6",
   "metadata": {},
   "outputs": [],
   "source": [
    "## Create a list of the desired treatments\n",
    "desired_treatments = ['Capomulin', 'Ramicane', 'Infubinol','Ceftamin']\n",
    "\n",
    "## Get the final timepoint\n",
    "volume_drug_timepoint = mouse_study_clean[ [\"Mouse ID\",\"Drug Regimen\",\"Timepoint\",\"Tumor Volume (mm3)\"] ]\n",
    "volume_drug_timepoint_max = volume_drug_timepoint[volume_drug_timepoint[\"Timepoint\"] \\\n",
    "                                                  == volume_drug_timepoint[\"Timepoint\"].max()]\n",
    "\n",
    "## vdtm = volume_drug_timepoint_max\n",
    "vdtm_sorted = volume_drug_timepoint_max.sort_values([\"Drug Regimen\"]).copy()"
   ]
  },
  {
   "cell_type": "code",
   "execution_count": 15,
   "id": "3a514697",
   "metadata": {},
   "outputs": [
    {
     "name": "stdout",
     "output_type": "stream",
     "text": [
      "Lower Quartile: 40.6583443125\n",
      "Upper Quartile: 68.8702959775\n",
      "IQR:28.211951665000008\n",
      "Datapoints at max timepoint: 63\n",
      "Datapoints within boundary: 63\n"
     ]
    }
   ],
   "source": [
    "## Calculate the IQR and quantitatively determine if there are any potential outliers.\n",
    "quar_range = vdtm_sorted['Tumor Volume (mm3)'].quantile([.25,.5,.75])\n",
    "lowq = quar_range[.25]\n",
    "upq = quar_range[.75]\n",
    "iqr = upq - lowq\n",
    "\n",
    "print(f\"Lower Quartile: {lowq}\")\n",
    "print(f\"Upper Quartile: {upq}\")\n",
    "print(f\"IQR:{iqr}\")\n",
    "\n",
    "## Locate the rows which contain mice on each drug and get the tumor volumes\n",
    "vdtm_regimen = vdtm_sorted.loc[(vdtm_sorted['Drug Regimen'].isin(desired_treatments))]\n",
    "vdtm_regimen_index = vdtm_regimen.set_index(keys = [\"Mouse ID\"], drop=True)\n",
    "print(f\"Datapoints at max timepoint: {vdtm_regimen_index['Tumor Volume (mm3)'].count()}\")\n",
    "\n",
    "# Determine outliers using upper and lower bounds\n",
    "lowbound = lowq - (1.5*iqr)\n",
    "upbound =  upq + (1.5*iqr)\n",
    "vdtm_regimen_outliers = vdtm_regimen_index.loc[\n",
    "    (vdtm_regimen_index['Tumor Volume (mm3)'].between(lowbound,upbound,inclusive='both'))]\n",
    "#No outliers determined.\n",
    "print(f\"Datapoints within boundary: {vdtm_regimen_outliers['Tumor Volume (mm3)'].count()}\")"
   ]
  },
  {
   "cell_type": "code",
   "execution_count": 16,
   "id": "f4f73f6b",
   "metadata": {},
   "outputs": [],
   "source": [
    "## Isolate each drug treatment\n",
    "for treatment in desired_treatments:\n",
    "    drug_one = vdtm_regimen_index.loc[(vdtm_regimen_index['Drug Regimen'] == desired_treatments[0])]\n",
    "    drug_two = vdtm_regimen_index.loc[(vdtm_regimen_index['Drug Regimen'] == desired_treatments[1])]\n",
    "    drug_three = vdtm_regimen_index.loc[(vdtm_regimen_index['Drug Regimen'] == desired_treatments[2])]\n",
    "    drug_four = vdtm_regimen_index.loc[(vdtm_regimen_index['Drug Regimen'] == desired_treatments[3])]\n",
    "    drug_info = pd.concat([drug_one, drug_two, drug_three, drug_four])"
   ]
  },
  {
   "cell_type": "code",
   "execution_count": 106,
   "id": "586c0217",
   "metadata": {},
   "outputs": [
    {
     "data": {
      "image/png": "[encoded data removed]",
      "text/plain": [
       "<Figure size 720x576 with 1 Axes>"
      ]
     },
     "metadata": {
      "needs_background": "light"
     },
     "output_type": "display_data"
    },
    {
     "name": "stdout",
     "output_type": "stream",
     "text": [
      "Capomulins maximum is 47.68596303(mm3),and minimum is 23.34359787(mm3)\n",
      "Ramicanes maximum is 45.22086888(mm3),and minimum is 22.05012627(mm3)\n",
      "Infubinols maximum is 72.2267309(mm3),and minimum is 60.91876652(mm3)\n",
      "Ceftamins maximum is 68.92318457(mm3),and minimum is 59.74190064(mm3)\n"
     ]
    }
   ],
   "source": [
    "data = {desired_treatments[0]:drug_one['Tumor Volume (mm3)'],desired_treatments[1]:drug_two['Tumor Volume (mm3)'], \n",
    "        desired_treatments[2]:drug_three['Tumor Volume (mm3)'], desired_treatments[3]:drug_four['Tumor Volume (mm3)']}\n",
    "\n",
    "tumor_box, ax1 = plt.subplots(figsize=(10, 8))\n",
    "ax1\n",
    "ax1.boxplot(data.values())\n",
    "ax1.set_xticklabels(data.keys())\n",
    "ax1.set_ylabel('Tumor Volume (mm3)')\n",
    "ax1.set_title('Tumor Volume (mm3) across 4 treatment regimens')\n",
    "\n",
    "plt.show()\n",
    "print(f'{desired_treatments[0]}s maximum is {drug_one[\"Tumor Volume (mm3)\"].max()}(mm3),\\\n",
    "and minimum is {drug_one[\"Tumor Volume (mm3)\"].min()}(mm3)')\n",
    "\n",
    "print(f'{desired_treatments[1]}s maximum is {drug_two[\"Tumor Volume (mm3)\"].max()}(mm3),\\\n",
    "and minimum is {drug_two[\"Tumor Volume (mm3)\"].min()}(mm3)')\n",
    "\n",
    "print(f'{desired_treatments[2]}s maximum is {drug_three[\"Tumor Volume (mm3)\"].max()}(mm3),\\\n",
    "and minimum is {drug_three[\"Tumor Volume (mm3)\"].min()}(mm3)')\n",
    "\n",
    "print(f'{desired_treatments[3]}s maximum is {drug_four[\"Tumor Volume (mm3)\"].max()}(mm3),\\\n",
    "and minimum is {drug_four[\"Tumor Volume (mm3)\"].min()}(mm3)')"
   ]
  },
  {
   "cell_type": "markdown",
   "id": "c7089584",
   "metadata": {},
   "source": [
    "## Line Plot"
   ]
  },
  {
   "cell_type": "code",
   "execution_count": 18,
   "id": "b0ae5ab4",
   "metadata": {},
   "outputs": [],
   "source": [
    "drug_one_all = mouse_study_clean.loc[(mouse_study_clean['Drug Regimen'] == desired_treatments[0])]\n",
    "drug_one_all = drug_one_all.sort_values(by = ['Timepoint'])\n",
    "mouse_id = drug_one_all['Mouse ID'][0]\n",
    "mouse_id_df = drug_one_all.loc[drug_one_all['Mouse ID'] == mouse_id]"
   ]
  },
  {
   "cell_type": "code",
   "execution_count": 19,
   "id": "08a6457b",
   "metadata": {},
   "outputs": [
    {
     "data": {
      "image/png": "[encoded data removed]",
      "text/plain": [
       "<Figure size 432x288 with 1 Axes>"
      ]
     },
     "metadata": {
      "needs_background": "light"
     },
     "output_type": "display_data"
    }
   ],
   "source": [
    "# Generate a line plot of tumor volume vs. time point for a mouse treated with Capomulin\n",
    "plt.plot(mouse_id_df['Timepoint'], mouse_id_df['Tumor Volume (mm3)'])\n",
    "plt.title(f\"Mouse {mouse_id_df['Mouse ID'][0]} Capomulin Response Over Time\")\n",
    "plt.show()"
   ]
  },
  {
   "cell_type": "markdown",
   "id": "ac3c0f0f",
   "metadata": {},
   "source": [
    "## Scatter plot"
   ]
  },
  {
   "cell_type": "code",
   "execution_count": 20,
   "id": "c55889a0",
   "metadata": {},
   "outputs": [],
   "source": [
    "volume_weight_average = drug_one_all.groupby(by=['Weight (g)']).mean()"
   ]
  },
  {
   "cell_type": "code",
   "execution_count": 21,
   "id": "1b2b7ba3",
   "metadata": {},
   "outputs": [
    {
     "data": {
      "image/png": "[encoded data removed]",
      "text/plain": [
       "<Figure size 432x288 with 1 Axes>"
      ]
     },
     "metadata": {
      "needs_background": "light"
     },
     "output_type": "display_data"
    }
   ],
   "source": [
    "x_values = volume_weight_average.index\n",
    "y_values = volume_weight_average['Tumor Volume (mm3)']\n",
    "\n",
    "plt.scatter(x_values,y_values,s=(80),c=\"m\",alpha=.7,edgecolors=(\"k\"))\n",
    "plt.xlabel('Weight (g)')\n",
    "plt.ylabel('Tumor Volume (mm3)')\n",
    "plt.suptitle('Average Tumor Volume (mm3) to weight (g) of mouse in Capomulin regimen')\n",
    "plt.show()"
   ]
  },
  {
   "cell_type": "markdown",
   "id": "b15c1785",
   "metadata": {},
   "source": [
    "## Correlation and Regression"
   ]
  },
  {
   "cell_type": "code",
   "execution_count": 22,
   "id": "a2a44c26",
   "metadata": {},
   "outputs": [
    {
     "name": "stdout",
     "output_type": "stream",
     "text": [
      "The correlation coefficient for the average volume to weight from the Capomulin regimen is: 0.95\n"
     ]
    }
   ],
   "source": [
    "## Calculate the correlation coefficient and linear regression model \n",
    "## for mouse weight and average tumor volume for the Capomulin regimen\n",
    "\n",
    "correlation  =  st.pearsonr(volume_weight_average['Tumor Volume (mm3)'],volume_weight_average.index)\n",
    "print(f\"The correlation \\\n",
    "coefficient for the average volume to weight from the Capomulin regimen is: {round(correlation[0],2)}\")"
   ]
  },
  {
   "cell_type": "code",
   "execution_count": 23,
   "id": "da7b9186",
   "metadata": {},
   "outputs": [
    {
     "name": "stdout",
     "output_type": "stream",
     "text": [
      "The volume to weight average r2 value is: 0.9034966277438602\n"
     ]
    },
    {
     "data": {
      "image/png": "[encoded data removed]",
      "text/plain": [
       "<Figure size 720x360 with 1 Axes>"
      ]
     },
     "metadata": {
      "needs_background": "light"
     },
     "output_type": "display_data"
    }
   ],
   "source": [
    "(slope, intercept, rvalue, pvalue, stderr) = st.linregress(x_values,y_values)\n",
    "regress_values = x_values * slope + intercept\n",
    "line_eq = \"y = \" + str(round(slope,2)) + \"x + \" + str(round(intercept,2))\n",
    "plt.figure(figsize=(10,5))\n",
    "plt.rc('font', size=12)\n",
    "plt.grid(visible=True)\n",
    "plt.scatter(x_values,y_values,s=(80),c=\"m\",alpha=.7,edgecolors=(\"k\"))\n",
    "plt.plot(x_values,regress_values,\"k-\",linewidth=3,alpha=.8)\n",
    "plt.annotate(line_eq,(18,36),fontsize=15,color=\"black\")\n",
    "print(f\"The volume to weight average r2 value is: {rvalue**2}\")\n",
    "plt.xlabel('Weight (g)')\n",
    "plt.ylabel('Tumor Volume (mm3)')\n",
    "plt.suptitle('Average Tumor Volume (mm3) to weight (g) of mouse in Capomulin regimen')\n",
    "plt.show()"
   ]
  }
 ],
 "metadata": {
  "kernelspec": {
   "display_name": "PythonData38",
   "language": "python",
   "name": "pythondata38"
  },
  "language_info": {
   "codemirror_mode": {
    "name": "ipython",
    "version": 3
   },
   "file_extension": ".py",
   "mimetype": "text/x-python",
   "name": "python",
   "nbconvert_exporter": "python",
   "pygments_lexer": "ipython3",
   "version": "3.9.12"
  }
 },
 "nbformat": 4,
 "nbformat_minor": 5
}
